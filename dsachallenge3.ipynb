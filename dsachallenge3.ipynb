{
 "cells": [
  {
   "cell_type": "code",
   "execution_count": null,
   "id": "54898ad1",
   "metadata": {},
   "outputs": [],
   "source": [
    "1. Use examples to explain the sorting algorithms?"
   ]
  },
  {
   "cell_type": "code",
   "execution_count": null,
   "id": "b00ffff8",
   "metadata": {},
   "outputs": [],
   "source": [
    "A Sorting Algorithm is used to rearrange a given array or list elements according to a comparison \n",
    "operator on the elements. The comparison operator is used to decide the new order of element in \n",
    "the respective data structure.\n",
    "The below list of characters is sorted in increasing order of their ASCII values. That is, the \n",
    "character with lesser ASCII value will be placed first than the character with higher ASCII value.\n",
    "   edcba  -------->>>>abcde.\n",
    "there are many types of sorting algorithm available--\n",
    "Selection Sort.\n",
    "Bubble Sort.\n",
    "Insertion Sort.\n",
    "Merge Sort. etc."
   ]
  },
  {
   "cell_type": "code",
   "execution_count": null,
   "id": "a92dedff",
   "metadata": {},
   "outputs": [],
   "source": [
    "2. What Are the Benefits of Stacks?"
   ]
  },
  {
   "cell_type": "code",
   "execution_count": null,
   "id": "9896842b",
   "metadata": {},
   "outputs": [],
   "source": [
    "In stack we can allocate memory dynamically. In array it take lots of effort to add new element \n",
    "or remove an element . In stack we can easily add or remove elements from stack .Because of \n",
    "dynamic memory allocation if we not use all memory space then there will be wastage of memory\n",
    "space ."
   ]
  },
  {
   "cell_type": "code",
   "execution_count": null,
   "id": "8608d4fa",
   "metadata": {},
   "outputs": [],
   "source": [
    "3. What is the difference between a stack and a queue?"
   ]
  },
  {
   "cell_type": "code",
   "execution_count": null,
   "id": "f7ce4c75",
   "metadata": {},
   "outputs": [],
   "source": [
    "Stack and Queue both are the non-primitive data structures. The main differences between stack \n",
    "and queue are that stack uses LIFO (last in first out) method to access and add data elements\n",
    "whereas Queue uses FIFO (First in first out) method to access and add data elements."
   ]
  },
  {
   "cell_type": "code",
   "execution_count": null,
   "id": "8c661e15",
   "metadata": {},
   "outputs": [],
   "source": [
    "4. What are the different forms of queues?"
   ]
  },
  {
   "cell_type": "code",
   "execution_count": null,
   "id": "669227d4",
   "metadata": {},
   "outputs": [],
   "source": [
    "There are four different types of queues:-----\n",
    "Simple Queue.\n",
    "Circular Queue.\n",
    "Priority Queue.\n",
    "Double Ended Queue"
   ]
  },
  {
   "cell_type": "code",
   "execution_count": null,
   "id": "028a0a7f",
   "metadata": {},
   "outputs": [],
   "source": [
    "5. Why should I use Stack or Queue data structures instead of Arrays or\n",
    "Lists, and when should I use them?"
   ]
  },
  {
   "cell_type": "code",
   "execution_count": null,
   "id": "4227b56e",
   "metadata": {},
   "outputs": [],
   "source": [
    "When you want to remove something from the beginning of an array or a List (ArrayList) it usually\n",
    "takes O(n) time, but for a queue it takes O(1) time. That can make a huge difference if there are\n",
    "a lot of elements.The stack is a dynamic data structure means that size of the stack can grow or\n",
    "shrink at run time. In contrast, the size of the array is fixed, and it cannot be modified at run\n",
    "time. "
   ]
  },
  {
   "cell_type": "code",
   "execution_count": null,
   "id": "186e52e5",
   "metadata": {},
   "outputs": [],
   "source": [
    "6. What is the significance of Stack being a recursive data structure?"
   ]
  },
  {
   "cell_type": "code",
   "execution_count": null,
   "id": "0b4b723f",
   "metadata": {},
   "outputs": [],
   "source": [
    "Stack is a LIFO data structure i.e. ( Last In First Out) and hence it is used to implement \n",
    "recursion.When a function calls itself recursively, a return address needs to be stored for each\n",
    "activation of the function so that it can later be used to return from the function activation. \n",
    "Stack structures provide this capability automatically."
   ]
  }
 ],
 "metadata": {
  "kernelspec": {
   "display_name": "Python 3 (ipykernel)",
   "language": "python",
   "name": "python3"
  },
  "language_info": {
   "codemirror_mode": {
    "name": "ipython",
    "version": 3
   },
   "file_extension": ".py",
   "mimetype": "text/x-python",
   "name": "python",
   "nbconvert_exporter": "python",
   "pygments_lexer": "ipython3",
   "version": "3.7.3"
  }
 },
 "nbformat": 4,
 "nbformat_minor": 5
}
