{
 "cells": [
  {
   "cell_type": "code",
   "execution_count": null,
   "id": "e46d96c5",
   "metadata": {},
   "outputs": [],
   "source": [
    "1. What is the divide and conquer strategy?"
   ]
  },
  {
   "cell_type": "code",
   "execution_count": null,
   "id": "fcdb006f",
   "metadata": {},
   "outputs": [],
   "source": [
    "A divide-and-conquer algorithm recursively breaks down a problem into two or more sub-problems of\n",
    "the same or related type, until these become simple enough to be solved directly. The solutionsto \n",
    "the sub-problems are then combined to give a solution to the original problem."
   ]
  },
  {
   "cell_type": "code",
   "execution_count": null,
   "id": "69541fc4",
   "metadata": {},
   "outputs": [],
   "source": [
    "2. What is binary search and how does it work?"
   ]
  },
  {
   "cell_type": "code",
   "execution_count": null,
   "id": "7425eafe",
   "metadata": {},
   "outputs": [],
   "source": [
    "Binary search is an efficient algorithm for finding an item from a sorted list of items. \n",
    "It works by repeatedly dividing in half the portion of the list that could contain the item, \n",
    "until you've narrowed down the possible locations to just one.\n",
    "suppose we have a list of sorted elements, this algorithm first divide this list from middle then\n",
    "it searchs that the element is less than this middle elemnt or greater than this element. then in\n",
    "the basis of that it diveds again by the middle.\n"
   ]
  },
  {
   "cell_type": "code",
   "execution_count": null,
   "id": "61e6ecbd",
   "metadata": {},
   "outputs": [],
   "source": [
    "3. Explain the distinction between a list and a tuple."
   ]
  },
  {
   "cell_type": "code",
   "execution_count": null,
   "id": "7a0dd3ec",
   "metadata": {},
   "outputs": [],
   "source": [
    "The key difference between the tuples and lists is that while the tuples are immutable objects\n",
    "the lists are mutable. This means that tuples cannot be changed while the lists can be modified."
   ]
  },
  {
   "cell_type": "code",
   "execution_count": null,
   "id": "70cb84fb",
   "metadata": {},
   "outputs": [],
   "source": [
    "4. Can you explain how Python manages memory?"
   ]
  },
  {
   "cell_type": "code",
   "execution_count": null,
   "id": "5d5a1650",
   "metadata": {},
   "outputs": [],
   "source": [
    "Memory management in Python involves a private heap containing all Python objects and data \n",
    "structures.At the lowest level, a raw memory allocator ensures that there is enough room in the \n",
    "private heap for storing all Python-related data by interacting with the memory manager of the \n",
    "operating system"
   ]
  },
  {
   "cell_type": "code",
   "execution_count": null,
   "id": "f5cc8a94",
   "metadata": {},
   "outputs": [],
   "source": [
    "5. What is the difference between pickling and unpickling?"
   ]
  },
  {
   "cell_type": "code",
   "execution_count": null,
   "id": "c72ada8a",
   "metadata": {},
   "outputs": [],
   "source": [
    "“Pickling” is the process whereby a Python object hierarchy is converted into a byte stream, \n",
    "and “unpickling” is the inverse operation, whereby a byte stream (from a binary file or bytes-like\n",
    "object) is converted back into an object hierarchy."
   ]
  },
  {
   "cell_type": "code",
   "execution_count": null,
   "id": "add3ef0d",
   "metadata": {},
   "outputs": [],
   "source": [
    "6. What are the different types of search algorithms?"
   ]
  },
  {
   "cell_type": "code",
   "execution_count": null,
   "id": "9bf2967c",
   "metadata": {},
   "outputs": [],
   "source": [
    "Searching Algorithms :---\n",
    "Linear Search.\n",
    "Binary Search.\n",
    "Jump Search.\n",
    "Interpolation Search.\n",
    "Exponential Search.\n",
    "Sublist Search (Search a linked list in another list)\n",
    "Fibonacci Search.\n"
   ]
  },
  {
   "cell_type": "code",
   "execution_count": null,
   "id": "76136b53",
   "metadata": {},
   "outputs": [],
   "source": []
  },
  {
   "cell_type": "code",
   "execution_count": null,
   "id": "bdd12872",
   "metadata": {},
   "outputs": [],
   "source": []
  }
 ],
 "metadata": {
  "kernelspec": {
   "display_name": "Python 3 (ipykernel)",
   "language": "python",
   "name": "python3"
  },
  "language_info": {
   "codemirror_mode": {
    "name": "ipython",
    "version": 3
   },
   "file_extension": ".py",
   "mimetype": "text/x-python",
   "name": "python",
   "nbconvert_exporter": "python",
   "pygments_lexer": "ipython3",
   "version": "3.7.3"
  }
 },
 "nbformat": 4,
 "nbformat_minor": 5
}
