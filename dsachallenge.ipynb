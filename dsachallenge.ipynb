{
 "cells": [
  {
   "cell_type": "code",
   "execution_count": null,
   "id": "9410b4ae",
   "metadata": {},
   "outputs": [],
   "source": [
    "1. What is the distinction between a list and an array?"
   ]
  },
  {
   "cell_type": "code",
   "execution_count": null,
   "id": "b1e527c2",
   "metadata": {},
   "outputs": [],
   "source": [
    "The main difference between these two data types is the operation you can perform on them.\n",
    "Also lists are containers for elements having differing data types but arrays are used as \n",
    "containers for elements of the same data type.\n",
    "\n",
    "\n",
    "Similarities between Lists and Arrays\n",
    "Both are used for storing data.Both are mutable.Both can be indexed and iterated through.Both \n",
    "can be sliced"
   ]
  },
  {
   "cell_type": "code",
   "execution_count": null,
   "id": "7315df5f",
   "metadata": {},
   "outputs": [],
   "source": [
    "2. What are the qualities of a binary tree?"
   ]
  },
  {
   "cell_type": "code",
   "execution_count": null,
   "id": "8f240389",
   "metadata": {},
   "outputs": [],
   "source": [
    "Each node has a maximum of up to two children.For each node, the values of its left descendent \n",
    "nodes are less than that of the current node, which in turn is less than the right descendent \n",
    "nodes ."
   ]
  },
  {
   "cell_type": "code",
   "execution_count": null,
   "id": "58fe7e49",
   "metadata": {},
   "outputs": [],
   "source": [
    "3. What is the best way to combine two balanced binary search trees?"
   ]
  },
  {
   "cell_type": "code",
   "execution_count": null,
   "id": "8e54568e",
   "metadata": {},
   "outputs": [],
   "source": [
    "1.Insert elements of the first tree to second.\n",
    "2.Merge Inorder Traversals."
   ]
  },
  {
   "cell_type": "code",
   "execution_count": null,
   "id": "8a19bb88",
   "metadata": {},
   "outputs": [],
   "source": [
    "4. How would you describe Heap in detail?"
   ]
  },
  {
   "cell_type": "code",
   "execution_count": null,
   "id": "7152b8ef",
   "metadata": {},
   "outputs": [],
   "source": [
    "a heap is a specialized tree-based data structure which is essentially an almost complete tree\n",
    "that satisfies the heap property: in a max heap, for any given node C, if P is a parent node of \n",
    "C, then the key of P is greater than or equal to the key of C.All levels in a heap should be full.\n",
    "There are two types of the heap:-\n",
    "Min Heap.\n",
    "Max heap."
   ]
  },
  {
   "cell_type": "code",
   "execution_count": null,
   "id": "30392e57",
   "metadata": {},
   "outputs": [],
   "source": [
    "5. In terms of data structure, what is a HashMap?"
   ]
  },
  {
   "cell_type": "code",
   "execution_count": null,
   "id": "47ee5af1",
   "metadata": {},
   "outputs": [],
   "source": [
    "A HashMap is a data structure that is able to map certain keys to certain values. The keys and \n",
    "values could be anything."
   ]
  },
  {
   "cell_type": "code",
   "execution_count": null,
   "id": "182ca390",
   "metadata": {},
   "outputs": [],
   "source": [
    "6. How do you explain the complexities of time and space?"
   ]
  },
  {
   "cell_type": "code",
   "execution_count": null,
   "id": "54e9448e",
   "metadata": {},
   "outputs": [],
   "source": [
    "Time complexity is a function describing the amount of time an algorithm takes in terms of the \n",
    "amount of input to the algorithm.\n",
    "Space complexity is a function describing the amount of memory (space) an algorithm takes in \n",
    "terms of the amount of input to the algorithm."
   ]
  },
  {
   "cell_type": "code",
   "execution_count": null,
   "id": "4154763b",
   "metadata": {},
   "outputs": [],
   "source": [
    "7. How do you recursively sort a stack?"
   ]
  },
  {
   "cell_type": "code",
   "execution_count": null,
   "id": "09d72d33",
   "metadata": {},
   "outputs": [],
   "source": [
    "is_empty(S)-Tests whether stack is empty or not.\n",
    "push(S)-Adds new element to the stack.\n",
    "pop(S)-Removes top element from the stack.\n",
    "top(S)-: Returns value of the top element. Note that this function does not remove element from \n",
    "the stack"
   ]
  }
 ],
 "metadata": {
  "kernelspec": {
   "display_name": "Python 3 (ipykernel)",
   "language": "python",
   "name": "python3"
  },
  "language_info": {
   "codemirror_mode": {
    "name": "ipython",
    "version": 3
   },
   "file_extension": ".py",
   "mimetype": "text/x-python",
   "name": "python",
   "nbconvert_exporter": "python",
   "pygments_lexer": "ipython3",
   "version": "3.7.3"
  }
 },
 "nbformat": 4,
 "nbformat_minor": 5
}
