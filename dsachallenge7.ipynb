{
 "cells": [
  {
   "cell_type": "code",
   "execution_count": null,
   "id": "5df9fe2c",
   "metadata": {},
   "outputs": [],
   "source": [
    "1. What exactly is an application tree?"
   ]
  },
  {
   "cell_type": "code",
   "execution_count": null,
   "id": "d411da5c",
   "metadata": {},
   "outputs": [],
   "source": [
    "K-D Tree: A space partitioning tree used to organize points in K dimensional space. \n",
    "Trie : Used to implement dictionaries with prefix lookup. \n",
    "Suffix Tree : For quick pattern searching in a fixed text. \n",
    "Spanning Trees and shortest path trees are used in routers and bridges respectively in computer \n",
    "networks."
   ]
  },
  {
   "cell_type": "code",
   "execution_count": null,
   "id": "755eeb3d",
   "metadata": {},
   "outputs": [],
   "source": [
    "2. What is pre-order tree traversal and how does it work?"
   ]
  },
  {
   "cell_type": "code",
   "execution_count": null,
   "id": "2281c401",
   "metadata": {},
   "outputs": [],
   "source": [
    "a preorder traversal specifies that rt be visited before its children. This can easily be implemented \n",
    "as follows. Function preorder first checks that the tree is not empty (if it is, then the traversa\n",
    "l is done and preorder simply returns"
   ]
  },
  {
   "cell_type": "code",
   "execution_count": null,
   "id": "178bcb19",
   "metadata": {},
   "outputs": [],
   "source": [
    "3. What is the problem with the Hanoi Tower?"
   ]
  },
  {
   "cell_type": "code",
   "execution_count": null,
   "id": "5ba63a9d",
   "metadata": {},
   "outputs": [],
   "source": [
    "The objective of this problem is to move the stack of disks from the initial rod to another rod, \n",
    "following these rules: A disk cannot be placed on top of a smaller disk."
   ]
  },
  {
   "cell_type": "code",
   "execution_count": null,
   "id": "303ce7ab",
   "metadata": {},
   "outputs": [],
   "source": [
    "4. Can you explain the distinction between linear and nonlinear data structures?"
   ]
  },
  {
   "cell_type": "code",
   "execution_count": null,
   "id": "036c8851",
   "metadata": {},
   "outputs": [],
   "source": [
    "In linear data structure, data elements are sequentially connected and each element is traversable\n",
    "through a single run. In non-linear data structure, data elements are hierarchically connected and\n",
    "are present at various levels."
   ]
  },
  {
   "cell_type": "code",
   "execution_count": null,
   "id": "02b699ff",
   "metadata": {},
   "outputs": [],
   "source": [
    "5. What is the distinction between a list and an array?"
   ]
  },
  {
   "cell_type": "code",
   "execution_count": null,
   "id": "32f04722",
   "metadata": {},
   "outputs": [],
   "source": [
    "List: A list in Python is a collection of items which can contain elements of multiple data types,\n",
    "which may be either numeric, character logical values, etc.Array: An array is a vector containing\n",
    "homogeneous elements belonging to the same data type."
   ]
  },
  {
   "cell_type": "code",
   "execution_count": null,
   "id": "905a4d22",
   "metadata": {},
   "outputs": [],
   "source": []
  },
  {
   "cell_type": "code",
   "execution_count": null,
   "id": "717132bd",
   "metadata": {},
   "outputs": [],
   "source": []
  },
  {
   "cell_type": "code",
   "execution_count": null,
   "id": "d3470022",
   "metadata": {},
   "outputs": [],
   "source": []
  },
  {
   "cell_type": "code",
   "execution_count": null,
   "id": "9297d00e",
   "metadata": {},
   "outputs": [],
   "source": []
  },
  {
   "cell_type": "code",
   "execution_count": null,
   "id": "4bed1862",
   "metadata": {},
   "outputs": [],
   "source": []
  },
  {
   "cell_type": "code",
   "execution_count": null,
   "id": "7d732afb",
   "metadata": {},
   "outputs": [],
   "source": []
  },
  {
   "cell_type": "code",
   "execution_count": null,
   "id": "b3cb5138",
   "metadata": {},
   "outputs": [],
   "source": []
  },
  {
   "cell_type": "code",
   "execution_count": null,
   "id": "3dc35187",
   "metadata": {},
   "outputs": [],
   "source": []
  }
 ],
 "metadata": {
  "kernelspec": {
   "display_name": "Python 3 (ipykernel)",
   "language": "python",
   "name": "python3"
  },
  "language_info": {
   "codemirror_mode": {
    "name": "ipython",
    "version": 3
   },
   "file_extension": ".py",
   "mimetype": "text/x-python",
   "name": "python",
   "nbconvert_exporter": "python",
   "pygments_lexer": "ipython3",
   "version": "3.7.3"
  }
 },
 "nbformat": 4,
 "nbformat_minor": 5
}
