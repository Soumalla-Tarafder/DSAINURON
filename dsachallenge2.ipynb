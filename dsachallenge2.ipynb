{
 "cells": [
  {
   "cell_type": "code",
   "execution_count": null,
   "id": "4d0f37f8",
   "metadata": {},
   "outputs": [],
   "source": [
    "1. What is a linked list?"
   ]
  },
  {
   "cell_type": "code",
   "execution_count": null,
   "id": "653d207c",
   "metadata": {},
   "outputs": [],
   "source": [
    "A linked list is a sequence of data structures, which are connected together via links. Linked\n",
    "List is a sequence of links which contains items. Link − Each link of a linked list can store a \n",
    "data called an element. Next − Each link of a linked list contains a link to the next link called\n",
    "Next."
   ]
  },
  {
   "cell_type": "code",
   "execution_count": null,
   "id": "0b9b673d",
   "metadata": {},
   "outputs": [],
   "source": [
    "2. What are the different forms of linked lists?"
   ]
  },
  {
   "cell_type": "code",
   "execution_count": null,
   "id": "87044230",
   "metadata": {},
   "outputs": [],
   "source": [
    "There are three common types of Linked List.\n",
    "Singly Linked List.\n",
    "Doubly Linked List.\n",
    "Circular Linked List."
   ]
  },
  {
   "cell_type": "code",
   "execution_count": null,
   "id": "cf95cd21",
   "metadata": {},
   "outputs": [],
   "source": [
    "3. What is a linked list's purpose?"
   ]
  },
  {
   "cell_type": "code",
   "execution_count": null,
   "id": "bab0c2e6",
   "metadata": {},
   "outputs": [],
   "source": [
    "Linked lists are linear data structures that hold data in individual objects called nodes. These \n",
    "nodes hold both the data and a reference to the next node in the list. "
   ]
  },
  {
   "cell_type": "code",
   "execution_count": null,
   "id": "7497de34",
   "metadata": {},
   "outputs": [],
   "source": [
    "4. What are the advantages of linked lists over arrays?"
   ]
  },
  {
   "cell_type": "code",
   "execution_count": null,
   "id": "24a84493",
   "metadata": {},
   "outputs": [],
   "source": [
    "Advantages of Linked List over Array is  Dynamic Data Structure,No Memory Wastage,Insertion and \n",
    "Deletion Operation,Random Access,Reverse Traversal."
   ]
  },
  {
   "cell_type": "code",
   "execution_count": null,
   "id": "8c2aa07e",
   "metadata": {},
   "outputs": [],
   "source": [
    "5. What is the purpose of a circular linked list?"
   ]
  },
  {
   "cell_type": "code",
   "execution_count": null,
   "id": "9f99fa0b",
   "metadata": {},
   "outputs": [],
   "source": [
    "Advantage of Circular linked list is We can go to any node from any node in the Circular linked \n",
    "list which was not possible in the singly linked list if we reached the last node. In a circular\n",
    "list, any node can be starting point means we can traverse each node from any point."
   ]
  },
  {
   "cell_type": "code",
   "execution_count": null,
   "id": "8dd5091f",
   "metadata": {},
   "outputs": [],
   "source": [
    "6. How will you explain Circular Linked List?"
   ]
  },
  {
   "cell_type": "code",
   "execution_count": null,
   "id": "baf6627b",
   "metadata": {},
   "outputs": [],
   "source": [
    "Circular linked list is a linked list where all nodes are connected to form a circle. There is no \n",
    "NULL at the end.The last node holds the address of the first node. We can traverse the whole list\n",
    "by starting from any point. "
   ]
  }
 ],
 "metadata": {
  "kernelspec": {
   "display_name": "Python 3 (ipykernel)",
   "language": "python",
   "name": "python3"
  },
  "language_info": {
   "codemirror_mode": {
    "name": "ipython",
    "version": 3
   },
   "file_extension": ".py",
   "mimetype": "text/x-python",
   "name": "python",
   "nbconvert_exporter": "python",
   "pygments_lexer": "ipython3",
   "version": "3.7.3"
  }
 },
 "nbformat": 4,
 "nbformat_minor": 5
}
