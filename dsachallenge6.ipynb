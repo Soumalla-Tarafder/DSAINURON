{
 "cells": [
  {
   "cell_type": "code",
   "execution_count": null,
   "id": "76136b53",
   "metadata": {},
   "outputs": [],
   "source": [
    "1. Describe Python's built-in data structure?"
   ]
  },
  {
   "cell_type": "code",
   "execution_count": null,
   "id": "9bbd20c9",
   "metadata": {},
   "outputs": [],
   "source": [
    "Data structures are basically just that-they are structures which can hold some data together. In\n",
    "other words, they are used to store a collection of related data. There are four built-in data \n",
    "structures in Python-list, tuple, dictionary and set."
   ]
  },
  {
   "cell_type": "code",
   "execution_count": null,
   "id": "f908a8e0",
   "metadata": {},
   "outputs": [],
   "source": [
    "2. Describe the Python user data structure?"
   ]
  },
  {
   "cell_type": "code",
   "execution_count": null,
   "id": "965c3f94",
   "metadata": {},
   "outputs": [],
   "source": [
    "There is another category of data structures in Python that is user-defined; that is, usersdefine\n",
    "them. These include Stack, Queue, Linked List, Tree, Graph and HashMap."
   ]
  },
  {
   "cell_type": "code",
   "execution_count": null,
   "id": "403a1e11",
   "metadata": {},
   "outputs": [],
   "source": [
    "3. Describe the stages involved in writing an algorithm?"
   ]
  },
  {
   "cell_type": "code",
   "execution_count": null,
   "id": "25542243",
   "metadata": {},
   "outputs": [],
   "source": [
    "Three main stages are involved in creating an algorithm: data input, data processing, and results\n",
    "output.Next, the program calculates the sum of two value of the numbers (data processing).\n",
    "Finally, the program displays the result on the computer's screen ."
   ]
  },
  {
   "cell_type": "code",
   "execution_count": null,
   "id": "5953e907",
   "metadata": {},
   "outputs": [],
   "source": [
    "4. Outline the components of a good algorithm?"
   ]
  },
  {
   "cell_type": "code",
   "execution_count": null,
   "id": "212fbec9",
   "metadata": {},
   "outputs": [],
   "source": [
    "Unambiguous − Algorithm should be clear.\n",
    "Input − An algorithm should have 0 or more well-defined inputs.\n",
    "Output − An algorithm should have 1 or more well-defined outputs, and should match the desired output.\n",
    "Finiteness − Algorithms must terminate after a finite number of steps."
   ]
  },
  {
   "cell_type": "code",
   "execution_count": null,
   "id": "4fe429b2",
   "metadata": {},
   "outputs": [],
   "source": [
    "5. Describe the Tree traversal method?"
   ]
  },
  {
   "cell_type": "code",
   "execution_count": null,
   "id": "737b713a",
   "metadata": {},
   "outputs": [],
   "source": [
    "tree traversal is a form of graph traversal and refers to the process of visiting  each node in a\n",
    "tree data structure, exactly once. Such traversals are classified by the order in which the nodes\n",
    "are visited."
   ]
  },
  {
   "cell_type": "code",
   "execution_count": null,
   "id": "f39d3ed0",
   "metadata": {},
   "outputs": [],
   "source": [
    "6. Explain the difference between inorder and postorder tree traversal?"
   ]
  },
  {
   "cell_type": "code",
   "execution_count": null,
   "id": "488008d2",
   "metadata": {},
   "outputs": [],
   "source": [
    "Inorder Traversal (left-current-right)— Visit the current node after visiting all nodes inside \n",
    "left subtree but before visiting any node within the right subtree. Postorder Traversal(left-right\n",
    "-current) — Visit the current node after visiting all the nodes of left and right subtrees."
   ]
  },
  {
   "cell_type": "code",
   "execution_count": null,
   "id": "0d233f0d",
   "metadata": {},
   "outputs": [],
   "source": []
  },
  {
   "cell_type": "code",
   "execution_count": null,
   "id": "92d8f45c",
   "metadata": {},
   "outputs": [],
   "source": []
  },
  {
   "cell_type": "code",
   "execution_count": null,
   "id": "b33b9960",
   "metadata": {},
   "outputs": [],
   "source": []
  },
  {
   "cell_type": "code",
   "execution_count": null,
   "id": "f9dc393c",
   "metadata": {},
   "outputs": [],
   "source": []
  },
  {
   "cell_type": "code",
   "execution_count": null,
   "id": "2f21c8b0",
   "metadata": {},
   "outputs": [],
   "source": []
  },
  {
   "cell_type": "code",
   "execution_count": null,
   "id": "7daaa951",
   "metadata": {},
   "outputs": [],
   "source": []
  },
  {
   "cell_type": "code",
   "execution_count": null,
   "id": "34bd9768",
   "metadata": {},
   "outputs": [],
   "source": []
  },
  {
   "cell_type": "code",
   "execution_count": null,
   "id": "0ee450fe",
   "metadata": {},
   "outputs": [],
   "source": []
  },
  {
   "cell_type": "code",
   "execution_count": null,
   "id": "88142037",
   "metadata": {},
   "outputs": [],
   "source": []
  },
  {
   "cell_type": "code",
   "execution_count": null,
   "id": "97936a74",
   "metadata": {},
   "outputs": [],
   "source": []
  },
  {
   "cell_type": "code",
   "execution_count": null,
   "id": "bdd12872",
   "metadata": {},
   "outputs": [],
   "source": []
  }
 ],
 "metadata": {
  "kernelspec": {
   "display_name": "Python 3 (ipykernel)",
   "language": "python",
   "name": "python3"
  },
  "language_info": {
   "codemirror_mode": {
    "name": "ipython",
    "version": 3
   },
   "file_extension": ".py",
   "mimetype": "text/x-python",
   "name": "python",
   "nbconvert_exporter": "python",
   "pygments_lexer": "ipython3",
   "version": "3.7.3"
  }
 },
 "nbformat": 4,
 "nbformat_minor": 5
}
